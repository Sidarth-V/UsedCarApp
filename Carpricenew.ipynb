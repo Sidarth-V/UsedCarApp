{
  "nbformat": 4,
  "nbformat_minor": 0,
  "metadata": {
    "colab": {
      "name": "Carprice.ipynb",
      "provenance": [],
      "include_colab_link": true
    },
    "kernelspec": {
      "name": "python3",
      "display_name": "Python 3"
    },
    "language_info": {
      "name": "python"
    }
  },
  "cells": [
    {
      "cell_type": "markdown",
      "metadata": {
        "id": "view-in-github",
        "colab_type": "text"
      },
      "source": [
        "<a href=\"https://colab.research.google.com/github/Sidarth-V/UsedCarApp/blob/FormPage/Carpricenew.ipynb\" target=\"_parent\"><img src=\"https://colab.research.google.com/assets/colab-badge.svg\" alt=\"Open In Colab\"/></a>"
      ]
    },
    {
      "cell_type": "code",
      "metadata": {
        "id": "q2DoSM0qtOt1"
      },
      "source": [
        "import pandas as pd \n",
        "import numpy as np \n",
        "import json \n",
        "import pickle \n",
        "from sklearn.ensemble import RandomForestRegressor \n",
        "from sklearn.model_selection import train_test_split \n",
        "from sklearn.model_selection import ShuffleSplit \n",
        "from sklearn.model_selection import cross_val_score \n",
        "from sklearn.model_selection import GridSearchCV \n",
        "from warnings import simplefilter \n",
        "\n",
        "simplefilter(action='ignore', category=FutureWarning)"
      ],
      "execution_count": 1,
      "outputs": []
    },
    {
      "cell_type": "code",
      "metadata": {
        "colab": {
          "base_uri": "https://localhost:8080/",
          "height": 417
        },
        "id": "PaVMiyxYueV6",
        "outputId": "6ce3398d-38e7-4ab2-c007-25583168298c"
      },
      "source": [
        "df1 = pd.read_csv('cardekho_cleaned.csv')\n",
        "df1.head()"
      ],
      "execution_count": 2,
      "outputs": [
        {
          "output_type": "execute_result",
          "data": {
            "text/html": [
              "<div>\n",
              "<style scoped>\n",
              "    .dataframe tbody tr th:only-of-type {\n",
              "        vertical-align: middle;\n",
              "    }\n",
              "\n",
              "    .dataframe tbody tr th {\n",
              "        vertical-align: top;\n",
              "    }\n",
              "\n",
              "    .dataframe thead th {\n",
              "        text-align: right;\n",
              "    }\n",
              "</style>\n",
              "<table border=\"1\" class=\"dataframe\">\n",
              "  <thead>\n",
              "    <tr style=\"text-align: right;\">\n",
              "      <th></th>\n",
              "      <th>id</th>\n",
              "      <th>car_name</th>\n",
              "      <th>brand</th>\n",
              "      <th>model</th>\n",
              "      <th>new_price</th>\n",
              "      <th>min_cost_price</th>\n",
              "      <th>max_cost_price</th>\n",
              "      <th>vehicle_age</th>\n",
              "      <th>km_driven</th>\n",
              "      <th>seller_type</th>\n",
              "      <th>fuel_type</th>\n",
              "      <th>transmission_type</th>\n",
              "      <th>mileage</th>\n",
              "      <th>engine</th>\n",
              "      <th>max_power</th>\n",
              "      <th>seats</th>\n",
              "      <th>selling_price</th>\n",
              "    </tr>\n",
              "  </thead>\n",
              "  <tbody>\n",
              "    <tr>\n",
              "      <th>0</th>\n",
              "      <td>0</td>\n",
              "      <td>Maruti Alto</td>\n",
              "      <td>Maruti</td>\n",
              "      <td>Alto</td>\n",
              "      <td>NaN</td>\n",
              "      <td>NaN</td>\n",
              "      <td>NaN</td>\n",
              "      <td>9</td>\n",
              "      <td>120000</td>\n",
              "      <td>Individual</td>\n",
              "      <td>Petrol</td>\n",
              "      <td>Manual</td>\n",
              "      <td>19.70</td>\n",
              "      <td>796</td>\n",
              "      <td>46.30</td>\n",
              "      <td>5</td>\n",
              "      <td>120000</td>\n",
              "    </tr>\n",
              "    <tr>\n",
              "      <th>1</th>\n",
              "      <td>1</td>\n",
              "      <td>Hyundai Grand</td>\n",
              "      <td>Hyundai</td>\n",
              "      <td>Grand</td>\n",
              "      <td>New Car (On-Road Price) : Rs.7.11-7.48 Lakh*</td>\n",
              "      <td>711000.0</td>\n",
              "      <td>748000.0</td>\n",
              "      <td>5</td>\n",
              "      <td>20000</td>\n",
              "      <td>Individual</td>\n",
              "      <td>Petrol</td>\n",
              "      <td>Manual</td>\n",
              "      <td>18.90</td>\n",
              "      <td>1197</td>\n",
              "      <td>82.00</td>\n",
              "      <td>5</td>\n",
              "      <td>550000</td>\n",
              "    </tr>\n",
              "    <tr>\n",
              "      <th>2</th>\n",
              "      <td>2</td>\n",
              "      <td>Hyundai i20</td>\n",
              "      <td>Hyundai</td>\n",
              "      <td>i20</td>\n",
              "      <td>NaN</td>\n",
              "      <td>NaN</td>\n",
              "      <td>NaN</td>\n",
              "      <td>11</td>\n",
              "      <td>60000</td>\n",
              "      <td>Individual</td>\n",
              "      <td>Petrol</td>\n",
              "      <td>Manual</td>\n",
              "      <td>17.00</td>\n",
              "      <td>1197</td>\n",
              "      <td>80.00</td>\n",
              "      <td>5</td>\n",
              "      <td>215000</td>\n",
              "    </tr>\n",
              "    <tr>\n",
              "      <th>3</th>\n",
              "      <td>3</td>\n",
              "      <td>Maruti Alto</td>\n",
              "      <td>Maruti</td>\n",
              "      <td>Alto</td>\n",
              "      <td>NaN</td>\n",
              "      <td>NaN</td>\n",
              "      <td>NaN</td>\n",
              "      <td>9</td>\n",
              "      <td>37000</td>\n",
              "      <td>Individual</td>\n",
              "      <td>Petrol</td>\n",
              "      <td>Manual</td>\n",
              "      <td>20.92</td>\n",
              "      <td>998</td>\n",
              "      <td>67.10</td>\n",
              "      <td>5</td>\n",
              "      <td>226000</td>\n",
              "    </tr>\n",
              "    <tr>\n",
              "      <th>4</th>\n",
              "      <td>4</td>\n",
              "      <td>Ford Ecosport</td>\n",
              "      <td>Ford</td>\n",
              "      <td>Ecosport</td>\n",
              "      <td>New Car (On-Road Price) : Rs.10.14-13.79 Lakh*</td>\n",
              "      <td>1014000.0</td>\n",
              "      <td>1379000.0</td>\n",
              "      <td>6</td>\n",
              "      <td>30000</td>\n",
              "      <td>Dealer</td>\n",
              "      <td>Diesel</td>\n",
              "      <td>Manual</td>\n",
              "      <td>22.77</td>\n",
              "      <td>1498</td>\n",
              "      <td>98.59</td>\n",
              "      <td>5</td>\n",
              "      <td>570000</td>\n",
              "    </tr>\n",
              "  </tbody>\n",
              "</table>\n",
              "</div>"
            ],
            "text/plain": [
              "   id       car_name    brand  ... max_power seats  selling_price\n",
              "0   0    Maruti Alto   Maruti  ...     46.30     5         120000\n",
              "1   1  Hyundai Grand  Hyundai  ...     82.00     5         550000\n",
              "2   2    Hyundai i20  Hyundai  ...     80.00     5         215000\n",
              "3   3    Maruti Alto   Maruti  ...     67.10     5         226000\n",
              "4   4  Ford Ecosport     Ford  ...     98.59     5         570000\n",
              "\n",
              "[5 rows x 17 columns]"
            ]
          },
          "metadata": {
            "tags": []
          },
          "execution_count": 2
        }
      ]
    },
    {
      "cell_type": "markdown",
      "metadata": {
        "id": "QL-DWgB9vN0p"
      },
      "source": [
        "Among the data given, the columns corresponding to car name,seller type, brand and model have little relevance to car prices and given that these arent constant and other models/brands can exist, including these will harm the model efficacy. The columns on minimum and maximum cost price are incomplete for most data in the given dataset and as a result it doesnt make sense to limit the data to only the ones with complete information and thereby restrict amount of data we have."
      ]
    },
    {
      "cell_type": "code",
      "metadata": {
        "colab": {
          "base_uri": "https://localhost:8080/",
          "height": 195
        },
        "id": "6ndwS6E5upde",
        "outputId": "2d6953aa-05ca-4deb-e358-6aaa15311bc4"
      },
      "source": [
        "df2 = df1.drop(['car_name','seller_type','brand','model','new_price','id','min_cost_price','max_cost_price'],axis=1).reindex(['transmission_type','fuel_type','vehicle_age','km_driven','mileage','engine','max_power','seats','selling_price'],axis=1)\n",
        "df2.head()"
      ],
      "execution_count": 3,
      "outputs": [
        {
          "output_type": "execute_result",
          "data": {
            "text/html": [
              "<div>\n",
              "<style scoped>\n",
              "    .dataframe tbody tr th:only-of-type {\n",
              "        vertical-align: middle;\n",
              "    }\n",
              "\n",
              "    .dataframe tbody tr th {\n",
              "        vertical-align: top;\n",
              "    }\n",
              "\n",
              "    .dataframe thead th {\n",
              "        text-align: right;\n",
              "    }\n",
              "</style>\n",
              "<table border=\"1\" class=\"dataframe\">\n",
              "  <thead>\n",
              "    <tr style=\"text-align: right;\">\n",
              "      <th></th>\n",
              "      <th>transmission_type</th>\n",
              "      <th>fuel_type</th>\n",
              "      <th>vehicle_age</th>\n",
              "      <th>km_driven</th>\n",
              "      <th>mileage</th>\n",
              "      <th>engine</th>\n",
              "      <th>max_power</th>\n",
              "      <th>seats</th>\n",
              "      <th>selling_price</th>\n",
              "    </tr>\n",
              "  </thead>\n",
              "  <tbody>\n",
              "    <tr>\n",
              "      <th>0</th>\n",
              "      <td>Manual</td>\n",
              "      <td>Petrol</td>\n",
              "      <td>9</td>\n",
              "      <td>120000</td>\n",
              "      <td>19.70</td>\n",
              "      <td>796</td>\n",
              "      <td>46.30</td>\n",
              "      <td>5</td>\n",
              "      <td>120000</td>\n",
              "    </tr>\n",
              "    <tr>\n",
              "      <th>1</th>\n",
              "      <td>Manual</td>\n",
              "      <td>Petrol</td>\n",
              "      <td>5</td>\n",
              "      <td>20000</td>\n",
              "      <td>18.90</td>\n",
              "      <td>1197</td>\n",
              "      <td>82.00</td>\n",
              "      <td>5</td>\n",
              "      <td>550000</td>\n",
              "    </tr>\n",
              "    <tr>\n",
              "      <th>2</th>\n",
              "      <td>Manual</td>\n",
              "      <td>Petrol</td>\n",
              "      <td>11</td>\n",
              "      <td>60000</td>\n",
              "      <td>17.00</td>\n",
              "      <td>1197</td>\n",
              "      <td>80.00</td>\n",
              "      <td>5</td>\n",
              "      <td>215000</td>\n",
              "    </tr>\n",
              "    <tr>\n",
              "      <th>3</th>\n",
              "      <td>Manual</td>\n",
              "      <td>Petrol</td>\n",
              "      <td>9</td>\n",
              "      <td>37000</td>\n",
              "      <td>20.92</td>\n",
              "      <td>998</td>\n",
              "      <td>67.10</td>\n",
              "      <td>5</td>\n",
              "      <td>226000</td>\n",
              "    </tr>\n",
              "    <tr>\n",
              "      <th>4</th>\n",
              "      <td>Manual</td>\n",
              "      <td>Diesel</td>\n",
              "      <td>6</td>\n",
              "      <td>30000</td>\n",
              "      <td>22.77</td>\n",
              "      <td>1498</td>\n",
              "      <td>98.59</td>\n",
              "      <td>5</td>\n",
              "      <td>570000</td>\n",
              "    </tr>\n",
              "  </tbody>\n",
              "</table>\n",
              "</div>"
            ],
            "text/plain": [
              "  transmission_type fuel_type  vehicle_age  ...  max_power  seats  selling_price\n",
              "0            Manual    Petrol            9  ...      46.30      5         120000\n",
              "1            Manual    Petrol            5  ...      82.00      5         550000\n",
              "2            Manual    Petrol           11  ...      80.00      5         215000\n",
              "3            Manual    Petrol            9  ...      67.10      5         226000\n",
              "4            Manual    Diesel            6  ...      98.59      5         570000\n",
              "\n",
              "[5 rows x 9 columns]"
            ]
          },
          "metadata": {
            "tags": []
          },
          "execution_count": 3
        }
      ]
    },
    {
      "cell_type": "code",
      "metadata": {
        "colab": {
          "base_uri": "https://localhost:8080/"
        },
        "id": "FsxSiDxlzsNL",
        "outputId": "37102ffb-1b23-440c-86c4-6fe6cd4e7a23"
      },
      "source": [
        "df4 = df2\n",
        "df4.fuel = df4.fuel_type.map(lambda x: x if x in ['Diesel','Petrol'] else 'Other')\n",
        "df4.fuel.unique()\n",
        "manual = df4[df4['transmission_type']=='Manual']\n",
        "automatic = df4[df4['transmission_type']=='Automatic']"
      ],
      "execution_count": 4,
      "outputs": [
        {
          "output_type": "stream",
          "text": [
            "/usr/local/lib/python3.7/dist-packages/ipykernel_launcher.py:2: UserWarning: Pandas doesn't allow columns to be created via a new attribute name - see https://pandas.pydata.org/pandas-docs/stable/indexing.html#attribute-access\n",
            "  \n"
          ],
          "name": "stderr"
        }
      ]
    },
    {
      "cell_type": "code",
      "metadata": {
        "id": "CD0iU9p35GXx",
        "colab": {
          "base_uri": "https://localhost:8080/",
          "height": 166
        },
        "outputId": "8aa317c0-7ad1-4e05-dbcb-dbf1b9fdaade"
      },
      "source": [
        "df5=df4\n",
        "km_mean = df5.groupby('vehicle_age')['km_driven'].mean()\n",
        "year_mean_manual = df5[df5['transmission_type']=='Manual'].groupby('vehicle_age')['selling_price'].mean()\n",
        "year_mean_automatic = df5[df5['transmission_type']=='Automatic'].groupby('vehicle_age')['selling_price'].mean()\n",
        "df5.groupby('transmission_type').agg(['mean','std','min','max']).applymap(lambda x: format(x,'.0f')).drop(['vehicle_age'],axis=1)"
      ],
      "execution_count": 5,
      "outputs": [
        {
          "output_type": "execute_result",
          "data": {
            "text/html": [
              "<div>\n",
              "<style scoped>\n",
              "    .dataframe tbody tr th:only-of-type {\n",
              "        vertical-align: middle;\n",
              "    }\n",
              "\n",
              "    .dataframe tbody tr th {\n",
              "        vertical-align: top;\n",
              "    }\n",
              "\n",
              "    .dataframe thead tr th {\n",
              "        text-align: left;\n",
              "    }\n",
              "\n",
              "    .dataframe thead tr:last-of-type th {\n",
              "        text-align: right;\n",
              "    }\n",
              "</style>\n",
              "<table border=\"1\" class=\"dataframe\">\n",
              "  <thead>\n",
              "    <tr>\n",
              "      <th></th>\n",
              "      <th colspan=\"4\" halign=\"left\">km_driven</th>\n",
              "      <th colspan=\"4\" halign=\"left\">mileage</th>\n",
              "      <th colspan=\"4\" halign=\"left\">engine</th>\n",
              "      <th colspan=\"4\" halign=\"left\">max_power</th>\n",
              "      <th colspan=\"4\" halign=\"left\">seats</th>\n",
              "      <th colspan=\"4\" halign=\"left\">selling_price</th>\n",
              "    </tr>\n",
              "    <tr>\n",
              "      <th></th>\n",
              "      <th>mean</th>\n",
              "      <th>std</th>\n",
              "      <th>min</th>\n",
              "      <th>max</th>\n",
              "      <th>mean</th>\n",
              "      <th>std</th>\n",
              "      <th>min</th>\n",
              "      <th>max</th>\n",
              "      <th>mean</th>\n",
              "      <th>std</th>\n",
              "      <th>min</th>\n",
              "      <th>max</th>\n",
              "      <th>mean</th>\n",
              "      <th>std</th>\n",
              "      <th>min</th>\n",
              "      <th>max</th>\n",
              "      <th>mean</th>\n",
              "      <th>std</th>\n",
              "      <th>min</th>\n",
              "      <th>max</th>\n",
              "      <th>mean</th>\n",
              "      <th>std</th>\n",
              "      <th>min</th>\n",
              "      <th>max</th>\n",
              "    </tr>\n",
              "    <tr>\n",
              "      <th>transmission_type</th>\n",
              "      <th></th>\n",
              "      <th></th>\n",
              "      <th></th>\n",
              "      <th></th>\n",
              "      <th></th>\n",
              "      <th></th>\n",
              "      <th></th>\n",
              "      <th></th>\n",
              "      <th></th>\n",
              "      <th></th>\n",
              "      <th></th>\n",
              "      <th></th>\n",
              "      <th></th>\n",
              "      <th></th>\n",
              "      <th></th>\n",
              "      <th></th>\n",
              "      <th></th>\n",
              "      <th></th>\n",
              "      <th></th>\n",
              "      <th></th>\n",
              "      <th></th>\n",
              "      <th></th>\n",
              "      <th></th>\n",
              "      <th></th>\n",
              "    </tr>\n",
              "  </thead>\n",
              "  <tbody>\n",
              "    <tr>\n",
              "      <th>Automatic</th>\n",
              "      <td>48813</td>\n",
              "      <td>40964</td>\n",
              "      <td>1000</td>\n",
              "      <td>1325000</td>\n",
              "      <td>17</td>\n",
              "      <td>4</td>\n",
              "      <td>4</td>\n",
              "      <td>28</td>\n",
              "      <td>1871</td>\n",
              "      <td>667</td>\n",
              "      <td>624</td>\n",
              "      <td>6752</td>\n",
              "      <td>149</td>\n",
              "      <td>64</td>\n",
              "      <td>37</td>\n",
              "      <td>626</td>\n",
              "      <td>5</td>\n",
              "      <td>1</td>\n",
              "      <td>2</td>\n",
              "      <td>9</td>\n",
              "      <td>1631543</td>\n",
              "      <td>1667566</td>\n",
              "      <td>80000</td>\n",
              "      <td>39500000</td>\n",
              "    </tr>\n",
              "    <tr>\n",
              "      <th>Manual</th>\n",
              "      <td>60105</td>\n",
              "      <td>52399</td>\n",
              "      <td>100</td>\n",
              "      <td>3800000</td>\n",
              "      <td>20</td>\n",
              "      <td>4</td>\n",
              "      <td>9</td>\n",
              "      <td>34</td>\n",
              "      <td>1382</td>\n",
              "      <td>423</td>\n",
              "      <td>624</td>\n",
              "      <td>3436</td>\n",
              "      <td>87</td>\n",
              "      <td>25</td>\n",
              "      <td>34</td>\n",
              "      <td>315</td>\n",
              "      <td>5</td>\n",
              "      <td>1</td>\n",
              "      <td>0</td>\n",
              "      <td>14</td>\n",
              "      <td>523825</td>\n",
              "      <td>318334</td>\n",
              "      <td>30000</td>\n",
              "      <td>8100000</td>\n",
              "    </tr>\n",
              "  </tbody>\n",
              "</table>\n",
              "</div>"
            ],
            "text/plain": [
              "                  km_driven               ... selling_price                 \n",
              "                       mean    std   min  ...           std    min       max\n",
              "transmission_type                         ...                               \n",
              "Automatic             48813  40964  1000  ...       1667566  80000  39500000\n",
              "Manual                60105  52399   100  ...        318334  30000   8100000\n",
              "\n",
              "[2 rows x 24 columns]"
            ]
          },
          "metadata": {
            "tags": []
          },
          "execution_count": 5
        }
      ]
    },
    {
      "cell_type": "markdown",
      "metadata": {
        "id": "yZO7GDwdvxP9"
      },
      "source": [
        "At this point we can see the presence of very few/limited outliers in the data and trying to remove the outliers leads to loss in overall data with very little gain in accuracy considering the tradeoff of amount of data. As a result, we proceed with the outliers."
      ]
    },
    {
      "cell_type": "code",
      "metadata": {
        "id": "_VxBbbSE_wcn"
      },
      "source": [
        "transmission = pd.get_dummies(df5['transmission_type'])\n",
        "fuel = pd.get_dummies(df5['fuel_type'])\n",
        "year=df5['vehicle_age']\n",
        "mileage=df5['mileage']\n",
        "engine=df5['engine']\n",
        "max_power=df5['max_power']\n",
        "seats=df5['seats']\n",
        "\n",
        "X = pd.concat([transmission,fuel,df5.drop(['transmission_type','fuel_type','selling_price'],axis=1)],axis=1)\n",
        "y = df5['selling_price']"
      ],
      "execution_count": 6,
      "outputs": []
    },
    {
      "cell_type": "code",
      "metadata": {
        "colab": {
          "base_uri": "https://localhost:8080/",
          "height": 195
        },
        "id": "t32kE3grAHMh",
        "outputId": "ce41b494-eaee-483c-b3b9-40e0be824f69"
      },
      "source": [
        "X.head(5)"
      ],
      "execution_count": 7,
      "outputs": [
        {
          "output_type": "execute_result",
          "data": {
            "text/html": [
              "<div>\n",
              "<style scoped>\n",
              "    .dataframe tbody tr th:only-of-type {\n",
              "        vertical-align: middle;\n",
              "    }\n",
              "\n",
              "    .dataframe tbody tr th {\n",
              "        vertical-align: top;\n",
              "    }\n",
              "\n",
              "    .dataframe thead th {\n",
              "        text-align: right;\n",
              "    }\n",
              "</style>\n",
              "<table border=\"1\" class=\"dataframe\">\n",
              "  <thead>\n",
              "    <tr style=\"text-align: right;\">\n",
              "      <th></th>\n",
              "      <th>Automatic</th>\n",
              "      <th>Manual</th>\n",
              "      <th>CNG</th>\n",
              "      <th>Diesel</th>\n",
              "      <th>Electric</th>\n",
              "      <th>LPG</th>\n",
              "      <th>Petrol</th>\n",
              "      <th>vehicle_age</th>\n",
              "      <th>km_driven</th>\n",
              "      <th>mileage</th>\n",
              "      <th>engine</th>\n",
              "      <th>max_power</th>\n",
              "      <th>seats</th>\n",
              "    </tr>\n",
              "  </thead>\n",
              "  <tbody>\n",
              "    <tr>\n",
              "      <th>0</th>\n",
              "      <td>0</td>\n",
              "      <td>1</td>\n",
              "      <td>0</td>\n",
              "      <td>0</td>\n",
              "      <td>0</td>\n",
              "      <td>0</td>\n",
              "      <td>1</td>\n",
              "      <td>9</td>\n",
              "      <td>120000</td>\n",
              "      <td>19.70</td>\n",
              "      <td>796</td>\n",
              "      <td>46.30</td>\n",
              "      <td>5</td>\n",
              "    </tr>\n",
              "    <tr>\n",
              "      <th>1</th>\n",
              "      <td>0</td>\n",
              "      <td>1</td>\n",
              "      <td>0</td>\n",
              "      <td>0</td>\n",
              "      <td>0</td>\n",
              "      <td>0</td>\n",
              "      <td>1</td>\n",
              "      <td>5</td>\n",
              "      <td>20000</td>\n",
              "      <td>18.90</td>\n",
              "      <td>1197</td>\n",
              "      <td>82.00</td>\n",
              "      <td>5</td>\n",
              "    </tr>\n",
              "    <tr>\n",
              "      <th>2</th>\n",
              "      <td>0</td>\n",
              "      <td>1</td>\n",
              "      <td>0</td>\n",
              "      <td>0</td>\n",
              "      <td>0</td>\n",
              "      <td>0</td>\n",
              "      <td>1</td>\n",
              "      <td>11</td>\n",
              "      <td>60000</td>\n",
              "      <td>17.00</td>\n",
              "      <td>1197</td>\n",
              "      <td>80.00</td>\n",
              "      <td>5</td>\n",
              "    </tr>\n",
              "    <tr>\n",
              "      <th>3</th>\n",
              "      <td>0</td>\n",
              "      <td>1</td>\n",
              "      <td>0</td>\n",
              "      <td>0</td>\n",
              "      <td>0</td>\n",
              "      <td>0</td>\n",
              "      <td>1</td>\n",
              "      <td>9</td>\n",
              "      <td>37000</td>\n",
              "      <td>20.92</td>\n",
              "      <td>998</td>\n",
              "      <td>67.10</td>\n",
              "      <td>5</td>\n",
              "    </tr>\n",
              "    <tr>\n",
              "      <th>4</th>\n",
              "      <td>0</td>\n",
              "      <td>1</td>\n",
              "      <td>0</td>\n",
              "      <td>1</td>\n",
              "      <td>0</td>\n",
              "      <td>0</td>\n",
              "      <td>0</td>\n",
              "      <td>6</td>\n",
              "      <td>30000</td>\n",
              "      <td>22.77</td>\n",
              "      <td>1498</td>\n",
              "      <td>98.59</td>\n",
              "      <td>5</td>\n",
              "    </tr>\n",
              "  </tbody>\n",
              "</table>\n",
              "</div>"
            ],
            "text/plain": [
              "   Automatic  Manual  CNG  Diesel  ...  mileage  engine  max_power  seats\n",
              "0          0       1    0       0  ...    19.70     796      46.30      5\n",
              "1          0       1    0       0  ...    18.90    1197      82.00      5\n",
              "2          0       1    0       0  ...    17.00    1197      80.00      5\n",
              "3          0       1    0       0  ...    20.92     998      67.10      5\n",
              "4          0       1    0       1  ...    22.77    1498      98.59      5\n",
              "\n",
              "[5 rows x 13 columns]"
            ]
          },
          "metadata": {
            "tags": []
          },
          "execution_count": 7
        }
      ]
    },
    {
      "cell_type": "code",
      "metadata": {
        "colab": {
          "base_uri": "https://localhost:8080/"
        },
        "id": "_-SPMRx5AJbn",
        "outputId": "5c980701-98a3-4c14-eb83-123751036be3"
      },
      "source": [
        "y.head(5)"
      ],
      "execution_count": 8,
      "outputs": [
        {
          "output_type": "execute_result",
          "data": {
            "text/plain": [
              "0    120000\n",
              "1    550000\n",
              "2    215000\n",
              "3    226000\n",
              "4    570000\n",
              "Name: selling_price, dtype: int64"
            ]
          },
          "metadata": {
            "tags": []
          },
          "execution_count": 8
        }
      ]
    },
    {
      "cell_type": "code",
      "metadata": {
        "id": "J80WETvZALse"
      },
      "source": [
        "X_train, X_test, y_train, y_test = train_test_split(X,y,test_size=0.2,random_state=10)"
      ],
      "execution_count": 9,
      "outputs": []
    },
    {
      "cell_type": "markdown",
      "metadata": {
        "id": "uLegn963wKmu"
      },
      "source": [
        "To identify the best regression model, we use GridSearchCV using the following code:\n",
        "\n",
        "\n",
        " \n",
        "\n",
        "```\n",
        "for algo_name, config in algos.items():\n",
        " \n",
        "        gs =  GridSearchCV(config['model'], config['params'], cv=cv, return_train_score=False)\n",
        "        gs.fit(X,y)\n",
        "        scores.append({\n",
        "            'model': algo_name,\n",
        "            'best_score': gs.best_score_,\n",
        "            'best_params': gs.best_params_\n",
        "        })\n",
        "```\n",
        "\n",
        "\n",
        "At this point, we obtain the best model as random forest speciically with mean square error and 26 trees in the forest. "
      ]
    },
    {
      "cell_type": "code",
      "metadata": {
        "id": "0FlgPis8AkP2"
      },
      "source": [
        "model = RandomForestRegressor(criterion='mse',n_estimators=26)"
      ],
      "execution_count": 10,
      "outputs": []
    },
    {
      "cell_type": "code",
      "metadata": {
        "colab": {
          "base_uri": "https://localhost:8080/"
        },
        "id": "mNlrnOTeAoqs",
        "outputId": "9e0b75ed-d903-4f78-ad6a-c668b21c3266"
      },
      "source": [
        "model.fit(X_train,y_train)"
      ],
      "execution_count": 11,
      "outputs": [
        {
          "output_type": "execute_result",
          "data": {
            "text/plain": [
              "RandomForestRegressor(bootstrap=True, ccp_alpha=0.0, criterion='mse',\n",
              "                      max_depth=None, max_features='auto', max_leaf_nodes=None,\n",
              "                      max_samples=None, min_impurity_decrease=0.0,\n",
              "                      min_impurity_split=None, min_samples_leaf=1,\n",
              "                      min_samples_split=2, min_weight_fraction_leaf=0.0,\n",
              "                      n_estimators=26, n_jobs=None, oob_score=False,\n",
              "                      random_state=None, verbose=0, warm_start=False)"
            ]
          },
          "metadata": {
            "tags": []
          },
          "execution_count": 11
        }
      ]
    },
    {
      "cell_type": "code",
      "metadata": {
        "id": "tFDVVUVSZyCf",
        "outputId": "5c7120d7-ab09-444c-bee3-65c3b4806eb0",
        "colab": {
          "base_uri": "https://localhost:8080/"
        }
      },
      "source": [
        "from sklearn.linear_model import LinearRegression #Linear Regression\n",
        "from sklearn.linear_model import Lasso #Lasso Regression\n",
        "from sklearn.tree import DecisionTreeRegressor\n",
        "\n",
        "def find_best_model_using_gridsearchcv(X,y):\n",
        "    algos = {\n",
        "        'linear_regression' : {\n",
        "            'model': LinearRegression(),\n",
        "            'params': {\n",
        "                'normalize': [True, False]\n",
        "            }\n",
        "        },\n",
        "        'lasso': {\n",
        "            'model': Lasso(),\n",
        "            'params': {\n",
        "                'alpha': [1,2],\n",
        "                'selection': ['random', 'cyclic']\n",
        "            }\n",
        "        },\n",
        "        'decision_tree': {\n",
        "            'model': DecisionTreeRegressor(),\n",
        "            'params': {\n",
        "                'criterion' : ['mse','friedman_mse'],\n",
        "                'splitter': ['best','random']\n",
        "            }\n",
        "        },\n",
        "        'random_forest': {\n",
        "            'model': RandomForestRegressor(),\n",
        "            'params': {\n",
        "                'criterion' : ['mse','friedman_mse'],\n",
        "                'n_estimators': range(1,50,5)\n",
        "            }\n",
        "        }\n",
        "    }\n",
        "    scores = []\n",
        "    cv = ShuffleSplit(n_splits=5, test_size=0.2, random_state=0)\n",
        "    for algo_name, config in algos.items():\n",
        "        gs =  GridSearchCV(config['model'], config['params'], cv=cv, return_train_score=False)\n",
        "        gs.fit(X,y)\n",
        "        scores.append({\n",
        "            'model': algo_name,\n",
        "            'best_score': gs.best_score_,\n",
        "            'best_params': gs.best_params_\n",
        "        })\n",
        "\n",
        "    return pd.DataFrame(scores,columns=['model','best_score','best_params'])\n",
        "\n",
        "find_best_model_using_gridsearchcv(X,y)"
      ],
      "execution_count": null,
      "outputs": [
        {
          "output_type": "stream",
          "text": [
            "/usr/local/lib/python3.7/dist-packages/sklearn/linear_model/_coordinate_descent.py:476: ConvergenceWarning: Objective did not converge. You might want to increase the number of iterations. Duality gap: 2238967768303310.8, tolerance: 1234605993635.0554\n",
            "  positive)\n",
            "/usr/local/lib/python3.7/dist-packages/sklearn/linear_model/_coordinate_descent.py:476: ConvergenceWarning: Objective did not converge. You might want to increase the number of iterations. Duality gap: 2580829186271637.5, tolerance: 1368690422438.6833\n",
            "  positive)\n",
            "/usr/local/lib/python3.7/dist-packages/sklearn/linear_model/_coordinate_descent.py:476: ConvergenceWarning: Objective did not converge. You might want to increase the number of iterations. Duality gap: 2031586343256143.5, tolerance: 1180919929337.1697\n",
            "  positive)\n",
            "/usr/local/lib/python3.7/dist-packages/sklearn/linear_model/_coordinate_descent.py:476: ConvergenceWarning: Objective did not converge. You might want to increase the number of iterations. Duality gap: 2500518495066905.0, tolerance: 1352004715115.0117\n",
            "  positive)\n",
            "/usr/local/lib/python3.7/dist-packages/sklearn/linear_model/_coordinate_descent.py:476: ConvergenceWarning: Objective did not converge. You might want to increase the number of iterations. Duality gap: 2076048357192193.8, tolerance: 1205208870629.905\n",
            "  positive)\n",
            "/usr/local/lib/python3.7/dist-packages/sklearn/linear_model/_coordinate_descent.py:476: ConvergenceWarning: Objective did not converge. You might want to increase the number of iterations. Duality gap: 448848719279844.0, tolerance: 1234605993635.0554\n",
            "  positive)\n",
            "/usr/local/lib/python3.7/dist-packages/sklearn/linear_model/_coordinate_descent.py:476: ConvergenceWarning: Objective did not converge. You might want to increase the number of iterations. Duality gap: 585636024548538.0, tolerance: 1352004715115.0117\n",
            "  positive)\n",
            "/usr/local/lib/python3.7/dist-packages/sklearn/linear_model/_coordinate_descent.py:476: ConvergenceWarning: Objective did not converge. You might want to increase the number of iterations. Duality gap: 2248224050616406.8, tolerance: 1234605993635.0554\n",
            "  positive)\n",
            "/usr/local/lib/python3.7/dist-packages/sklearn/linear_model/_coordinate_descent.py:476: ConvergenceWarning: Objective did not converge. You might want to increase the number of iterations. Duality gap: 2031971842568179.5, tolerance: 1180919929337.1697\n",
            "  positive)\n",
            "/usr/local/lib/python3.7/dist-packages/sklearn/linear_model/_coordinate_descent.py:476: ConvergenceWarning: Objective did not converge. You might want to increase the number of iterations. Duality gap: 2503778413820573.5, tolerance: 1352004715115.0117\n",
            "  positive)\n",
            "/usr/local/lib/python3.7/dist-packages/sklearn/linear_model/_coordinate_descent.py:476: ConvergenceWarning: Objective did not converge. You might want to increase the number of iterations. Duality gap: 2076190108925212.2, tolerance: 1205208870629.905\n",
            "  positive)\n",
            "/usr/local/lib/python3.7/dist-packages/sklearn/linear_model/_coordinate_descent.py:476: ConvergenceWarning: Objective did not converge. You might want to increase the number of iterations. Duality gap: 448854863412254.0, tolerance: 1234605993635.0554\n",
            "  positive)\n",
            "/usr/local/lib/python3.7/dist-packages/sklearn/linear_model/_coordinate_descent.py:476: ConvergenceWarning: Objective did not converge. You might want to increase the number of iterations. Duality gap: 585641967948598.0, tolerance: 1352004715115.0117\n",
            "  positive)\n"
          ],
          "name": "stderr"
        }
      ]
    },
    {
      "cell_type": "code",
      "metadata": {
        "id": "zHRnjCjpAs9v"
      },
      "source": [
        "def predict_price(transmission,fuel,km_driven,year,mileage,engine,max_power,seats):\n",
        "    x = []\n",
        "    x[:12] = np.zeros(13,dtype='int32')\n",
        "    x[7] = year\n",
        "    x[8] = km_driven\n",
        "    x[9] = mileage\n",
        "    x[10] = engine\n",
        "    x[11] = max_power\n",
        "    x[12] = seats\n",
        "    transmission_index = np.where(X.columns==transmission)[0][0]\n",
        "    fuel_index = np.where(X.columns==fuel)[0][0]\n",
        "    \n",
        "    if transmission_index>=0:\n",
        "        x[transmission_index] = 1\n",
        "    if fuel_index>=2:\n",
        "        x[fuel_index] = 1\n",
        "        \n",
        "    return float(format(model.predict([x])[0],'.2f'))"
      ],
      "execution_count": 12,
      "outputs": []
    },
    {
      "cell_type": "code",
      "metadata": {
        "colab": {
          "base_uri": "https://localhost:8080/"
        },
        "id": "8mjSElfNBAaL",
        "outputId": "228b3d68-2069-491e-932c-9b331e585ccd"
      },
      "source": [
        "x=predict_price('Manual','Petrol',120000,9,19.70,796,46.30,5)\n",
        "print('Range of price is :' , round(x-40000,2) , ' to ' , x)"
      ],
      "execution_count": 13,
      "outputs": [
        {
          "output_type": "stream",
          "text": [
            "Range of price is : 130692.31  to  170692.31\n"
          ],
          "name": "stdout"
        }
      ]
    },
    {
      "cell_type": "code",
      "metadata": {
        "id": "owFpSz2SzfEz"
      },
      "source": [
        ""
      ],
      "execution_count": null,
      "outputs": []
    }
  ]
}